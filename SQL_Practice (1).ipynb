{
 "cells": [
  {
   "cell_type": "code",
   "execution_count": 1,
   "id": "4557988d",
   "metadata": {},
   "outputs": [],
   "source": [
    "import mysql.connector as conn"
   ]
  },
  {
   "cell_type": "code",
   "execution_count": 2,
   "id": "5ae58b6a",
   "metadata": {},
   "outputs": [],
   "source": [
    "import logging as lg"
   ]
  },
  {
   "cell_type": "code",
   "execution_count": 3,
   "id": "8cde2cca",
   "metadata": {},
   "outputs": [],
   "source": [
    "lg.basicConfig(filename='C:\\\\Users\\\\neeti\\\\OneDrive\\\\Desktop\\\\Logging\\\\sql_practice.log' , level = lg.INFO,format  = '%(asctime)s %(message)s')"
   ]
  },
  {
   "cell_type": "code",
   "execution_count": 4,
   "id": "57de642a",
   "metadata": {},
   "outputs": [],
   "source": [
    "mydb=conn.connect(host='localhost',user='root',passwd=\"mysql\")"
   ]
  },
  {
   "cell_type": "code",
   "execution_count": 5,
   "id": "a8854b2f",
   "metadata": {},
   "outputs": [],
   "source": [
    "cursor=mydb.cursor()"
   ]
  },
  {
   "cell_type": "code",
   "execution_count": 99,
   "id": "0c271a92",
   "metadata": {},
   "outputs": [],
   "source": [
    "#cursor.execute('create database sql_practice')"
   ]
  },
  {
   "cell_type": "code",
   "execution_count": 7,
   "id": "15de30d9",
   "metadata": {},
   "outputs": [],
   "source": [
    "cursor.execute('use sql_practice')"
   ]
  },
  {
   "cell_type": "code",
   "execution_count": null,
   "id": "0875facd",
   "metadata": {},
   "outputs": [],
   "source": [
    "cursor.execute('create table sql_practice.Worker(WORKER_ID INT NOT NULL PRIMARY KEY AUTO_INCREMENT,FIRST_NAME CHAR(25),LAST_NAME CHAR(25),SALARY INT(15),JOINING_DATE DATETIME,DEPARTMENT CHAR(25))')"
   ]
  },
  {
   "cell_type": "code",
   "execution_count": null,
   "id": "d4a8c8d2",
   "metadata": {},
   "outputs": [],
   "source": [
    "cursor.execute('INSERT INTO sql_practice.Worker VALUES(001, \"Monika\", \"Arora\", 100000, \"14-02-20 09.00.00\", \"HR\"),(002, \"Niharika\", \"Verma\", 80000, \"14-06-11 09.00.00\", \"Admin\"),(003, \"Vishal\", \"Singhal\", 300000, \"14-02-20 09.00.00\", \"HR\"),(004, \"Amitabh\", \"Singh\", 500000, \"14-02-20 09.00.00\", \"Admin\"),(005, \"Vivek\", \"Bhati\", 500000, \"14-06-11 09.00.00\", \"Admin\"),(006, \"Vipul\", \"Diwan\", 200000, \"14-06-11 09.00.00\", \"Account\"),(007, \"Satish\", \"Kumar\", 75000, \"14-01-20 09.00.00\", \"Account\"),(008, \"Geetika\", \"Chauhan\", 90000, \"14-04-11 09.00.00\", \"Admin\")')\n"
   ]
  },
  {
   "cell_type": "code",
   "execution_count": 49,
   "id": "1715b287",
   "metadata": {},
   "outputs": [],
   "source": [
    "cursor.execute('select * from Worker')"
   ]
  },
  {
   "cell_type": "code",
   "execution_count": 50,
   "id": "0e7fa39a",
   "metadata": {},
   "outputs": [
    {
     "data": {
      "text/plain": [
       "[(1, 'Monika', 'Arora', 100000, datetime.datetime(2014, 2, 20, 9, 0), 'HR'),\n",
       " (2,\n",
       "  'Niharika',\n",
       "  'Verma',\n",
       "  80000,\n",
       "  datetime.datetime(2014, 6, 11, 9, 0),\n",
       "  'Admin'),\n",
       " (3, 'Vishal', 'Singhal', 300000, datetime.datetime(2014, 2, 20, 9, 0), 'HR'),\n",
       " (4,\n",
       "  'Amitabh',\n",
       "  'Singh',\n",
       "  500000,\n",
       "  datetime.datetime(2014, 2, 20, 9, 0),\n",
       "  'Admin'),\n",
       " (5, 'Vivek', 'Bhati', 500000, datetime.datetime(2014, 6, 11, 9, 0), 'Admin'),\n",
       " (6,\n",
       "  'Vipul',\n",
       "  'Diwan',\n",
       "  200000,\n",
       "  datetime.datetime(2014, 6, 11, 9, 0),\n",
       "  'Account'),\n",
       " (7,\n",
       "  'Satish',\n",
       "  'Kumar',\n",
       "  75000,\n",
       "  datetime.datetime(2014, 1, 20, 9, 0),\n",
       "  'Account'),\n",
       " (8,\n",
       "  'Geetika',\n",
       "  'Chauhan',\n",
       "  90000,\n",
       "  datetime.datetime(2014, 4, 11, 9, 0),\n",
       "  'Admin')]"
      ]
     },
     "execution_count": 50,
     "metadata": {},
     "output_type": "execute_result"
    }
   ],
   "source": [
    "cursor.fetchall()"
   ]
  },
  {
   "cell_type": "markdown",
   "id": "f3d542ec",
   "metadata": {},
   "source": [
    "### Q-1. Write an SQL query to fetch “FIRST_NAME” from Worker table using the alias name as &lt;WORKER_NAME&gt;."
   ]
  },
  {
   "cell_type": "code",
   "execution_count": 51,
   "id": "d0f4fb46",
   "metadata": {},
   "outputs": [],
   "source": [
    "cursor.execute('select FIRST_NAME AS WORKER_NAME from Worker')"
   ]
  },
  {
   "cell_type": "code",
   "execution_count": 52,
   "id": "25650b26",
   "metadata": {},
   "outputs": [
    {
     "data": {
      "text/plain": [
       "[('Monika',),\n",
       " ('Niharika',),\n",
       " ('Vishal',),\n",
       " ('Amitabh',),\n",
       " ('Vivek',),\n",
       " ('Vipul',),\n",
       " ('Satish',),\n",
       " ('Geetika',)]"
      ]
     },
     "execution_count": 52,
     "metadata": {},
     "output_type": "execute_result"
    }
   ],
   "source": [
    "cursor.fetchall()"
   ]
  },
  {
   "cell_type": "markdown",
   "id": "90ce21f7",
   "metadata": {},
   "source": [
    "### Q-2. Write an SQL query to fetch unique values of DEPARTMENT from Worker table."
   ]
  },
  {
   "cell_type": "code",
   "execution_count": 53,
   "id": "ee957133",
   "metadata": {},
   "outputs": [],
   "source": [
    "cursor.execute('select distinct DEPARTMENT from Worker')"
   ]
  },
  {
   "cell_type": "code",
   "execution_count": 54,
   "id": "aa90c6ef",
   "metadata": {},
   "outputs": [
    {
     "data": {
      "text/plain": [
       "[('HR',), ('Admin',), ('Account',)]"
      ]
     },
     "execution_count": 54,
     "metadata": {},
     "output_type": "execute_result"
    }
   ],
   "source": [
    "cursor.fetchall()"
   ]
  },
  {
   "cell_type": "markdown",
   "id": "1d26dfc5",
   "metadata": {},
   "source": [
    "### Q-3. Write an SQL query to show the last 5 record from a table."
   ]
  },
  {
   "cell_type": "code",
   "execution_count": 55,
   "id": "d6fbf253",
   "metadata": {},
   "outputs": [],
   "source": [
    "cursor.execute('SELECT * FROM Worker W order by W.WORKER_ID DESC limit 5')"
   ]
  },
  {
   "cell_type": "code",
   "execution_count": 56,
   "id": "dadaa8c1",
   "metadata": {},
   "outputs": [
    {
     "data": {
      "text/plain": [
       "[(8,\n",
       "  'Geetika',\n",
       "  'Chauhan',\n",
       "  90000,\n",
       "  datetime.datetime(2014, 4, 11, 9, 0),\n",
       "  'Admin'),\n",
       " (7,\n",
       "  'Satish',\n",
       "  'Kumar',\n",
       "  75000,\n",
       "  datetime.datetime(2014, 1, 20, 9, 0),\n",
       "  'Account'),\n",
       " (6,\n",
       "  'Vipul',\n",
       "  'Diwan',\n",
       "  200000,\n",
       "  datetime.datetime(2014, 6, 11, 9, 0),\n",
       "  'Account'),\n",
       " (5, 'Vivek', 'Bhati', 500000, datetime.datetime(2014, 6, 11, 9, 0), 'Admin'),\n",
       " (4,\n",
       "  'Amitabh',\n",
       "  'Singh',\n",
       "  500000,\n",
       "  datetime.datetime(2014, 2, 20, 9, 0),\n",
       "  'Admin')]"
      ]
     },
     "execution_count": 56,
     "metadata": {},
     "output_type": "execute_result"
    }
   ],
   "source": [
    "cursor.fetchall()"
   ]
  },
  {
   "cell_type": "markdown",
   "id": "e90e8d18",
   "metadata": {},
   "source": [
    "### Write an SQL query to print the first three characters of  FIRST_NAME from Worker table."
   ]
  },
  {
   "cell_type": "code",
   "execution_count": 57,
   "id": "09b942c1",
   "metadata": {},
   "outputs": [],
   "source": [
    "cursor.execute('select substring(FIRST_NAME,1,3) from Worker')"
   ]
  },
  {
   "cell_type": "code",
   "execution_count": 58,
   "id": "987cdc99",
   "metadata": {},
   "outputs": [
    {
     "data": {
      "text/plain": [
       "[('Mon',),\n",
       " ('Nih',),\n",
       " ('Vis',),\n",
       " ('Ami',),\n",
       " ('Viv',),\n",
       " ('Vip',),\n",
       " ('Sat',),\n",
       " ('Gee',)]"
      ]
     },
     "execution_count": 58,
     "metadata": {},
     "output_type": "execute_result"
    }
   ],
   "source": [
    "cursor.fetchall()"
   ]
  },
  {
   "cell_type": "code",
   "execution_count": 59,
   "id": "427e09c7",
   "metadata": {},
   "outputs": [],
   "source": [
    "mydb.commit()"
   ]
  },
  {
   "cell_type": "markdown",
   "id": "abb77db8",
   "metadata": {},
   "source": [
    "### Write an SQL query to find the position of the alphabet (‘a’) in the first name column ‘Amitabh’ from Worker table."
   ]
  },
  {
   "cell_type": "code",
   "execution_count": 60,
   "id": "75f9285e",
   "metadata": {},
   "outputs": [],
   "source": [
    "cursor.execute('select POSITION(\"a\" IN FIRST_NAME) from Worker where FIRST_NAME = \"Amitabh\"')"
   ]
  },
  {
   "cell_type": "code",
   "execution_count": 61,
   "id": "9d4de9e3",
   "metadata": {},
   "outputs": [
    {
     "data": {
      "text/plain": [
       "[(1,)]"
      ]
     },
     "execution_count": 61,
     "metadata": {},
     "output_type": "execute_result"
    }
   ],
   "source": [
    "cursor.fetchall()"
   ]
  },
  {
   "cell_type": "markdown",
   "id": "e575b8ee",
   "metadata": {},
   "source": [
    "### Write an SQL query to print the name of employees having the highest salary in each department."
   ]
  },
  {
   "cell_type": "code",
   "execution_count": 62,
   "id": "0886ccdc",
   "metadata": {},
   "outputs": [],
   "source": [
    "cursor.execute('SELECT FIRST_NAME, LAST_NAME, SALARY, DEPARTMENT FROM Worker WHERE (SALARY,DEPARTMENT) IN (select MAX(SALARY), DEPARTMENT from Worker group by DEPARTMENT)')"
   ]
  },
  {
   "cell_type": "code",
   "execution_count": 63,
   "id": "6688acff",
   "metadata": {},
   "outputs": [
    {
     "data": {
      "text/plain": [
       "[('Vishal', 'Singhal', 300000, 'HR'),\n",
       " ('Amitabh', 'Singh', 500000, 'Admin'),\n",
       " ('Vivek', 'Bhati', 500000, 'Admin'),\n",
       " ('Vipul', 'Diwan', 200000, 'Account')]"
      ]
     },
     "execution_count": 63,
     "metadata": {},
     "output_type": "execute_result"
    }
   ],
   "source": [
    "cursor.fetchall()"
   ]
  },
  {
   "cell_type": "markdown",
   "id": "a5514f9f",
   "metadata": {},
   "source": [
    "### Write an SQL query to print the FIRST_NAME from Worker table after removing white spaces from the right side."
   ]
  },
  {
   "cell_type": "code",
   "execution_count": 64,
   "id": "7859493f",
   "metadata": {},
   "outputs": [],
   "source": [
    "cursor.execute('select rtrim(FIRST_NAME) from Worker ')"
   ]
  },
  {
   "cell_type": "code",
   "execution_count": 65,
   "id": "e41048e5",
   "metadata": {},
   "outputs": [
    {
     "data": {
      "text/plain": [
       "[('Monika',),\n",
       " ('Niharika',),\n",
       " ('Vishal',),\n",
       " ('Amitabh',),\n",
       " ('Vivek',),\n",
       " ('Vipul',),\n",
       " ('Satish',),\n",
       " ('Geetika',)]"
      ]
     },
     "execution_count": 65,
     "metadata": {},
     "output_type": "execute_result"
    }
   ],
   "source": [
    "cursor.fetchall()"
   ]
  },
  {
   "cell_type": "markdown",
   "id": "d29e4a20",
   "metadata": {},
   "source": [
    "### Write an SQL query that fetches the unique values of DEPARTMENT from Worker table and prints its length."
   ]
  },
  {
   "cell_type": "code",
   "execution_count": 66,
   "id": "dd83311d",
   "metadata": {},
   "outputs": [],
   "source": [
    "cursor.execute('select distinct length(DEPARTMENT) from Worker')"
   ]
  },
  {
   "cell_type": "code",
   "execution_count": 67,
   "id": "1b74af1b",
   "metadata": {},
   "outputs": [
    {
     "data": {
      "text/plain": [
       "[(2,), (5,), (7,)]"
      ]
     },
     "execution_count": 67,
     "metadata": {},
     "output_type": "execute_result"
    }
   ],
   "source": [
    "cursor.fetchall()"
   ]
  },
  {
   "cell_type": "markdown",
   "id": "236c763a",
   "metadata": {},
   "source": [
    "### Write an SQL query to fetch nth max salaries from a table."
   ]
  },
  {
   "cell_type": "code",
   "execution_count": 68,
   "id": "20875b87",
   "metadata": {},
   "outputs": [],
   "source": [
    "#n=6\n",
    "cursor.execute('select * from Worker order by SALARY desc limit 6,1')"
   ]
  },
  {
   "cell_type": "code",
   "execution_count": 69,
   "id": "d069d597",
   "metadata": {},
   "outputs": [
    {
     "data": {
      "text/plain": [
       "[(2,\n",
       "  'Niharika',\n",
       "  'Verma',\n",
       "  80000,\n",
       "  datetime.datetime(2014, 6, 11, 9, 0),\n",
       "  'Admin')]"
      ]
     },
     "execution_count": 69,
     "metadata": {},
     "output_type": "execute_result"
    }
   ],
   "source": [
    "cursor.fetchall()"
   ]
  },
  {
   "cell_type": "markdown",
   "id": "42cdb98b",
   "metadata": {},
   "source": [
    "### Write an SQL query to print the FIRST_NAME from Worker table after replacing ‘a’ with ‘A’."
   ]
  },
  {
   "cell_type": "code",
   "execution_count": 70,
   "id": "0ad77f4d",
   "metadata": {},
   "outputs": [],
   "source": [
    "cursor.execute('select replace(FIRST_NAME,\"a\",\"A\") from Worker')"
   ]
  },
  {
   "cell_type": "code",
   "execution_count": 71,
   "id": "4798bd4d",
   "metadata": {},
   "outputs": [
    {
     "data": {
      "text/plain": [
       "[('MonikA',),\n",
       " ('NihArikA',),\n",
       " ('VishAl',),\n",
       " ('AmitAbh',),\n",
       " ('Vivek',),\n",
       " ('Vipul',),\n",
       " ('SAtish',),\n",
       " ('GeetikA',)]"
      ]
     },
     "execution_count": 71,
     "metadata": {},
     "output_type": "execute_result"
    }
   ],
   "source": [
    "cursor.fetchall()"
   ]
  },
  {
   "cell_type": "markdown",
   "id": "591fe8ea",
   "metadata": {},
   "source": [
    "### Write an SQL query to print all Worker details from the Worker table order by FIRST_NAME Ascending and DEPARTMENT Descending."
   ]
  },
  {
   "cell_type": "code",
   "execution_count": 72,
   "id": "6e492607",
   "metadata": {},
   "outputs": [],
   "source": [
    "cursor.execute('select * from Worker order by FIRST_NAME , DEPARTMENT desc')"
   ]
  },
  {
   "cell_type": "code",
   "execution_count": 73,
   "id": "bdb4a04d",
   "metadata": {},
   "outputs": [
    {
     "data": {
      "text/plain": [
       "[(4,\n",
       "  'Amitabh',\n",
       "  'Singh',\n",
       "  500000,\n",
       "  datetime.datetime(2014, 2, 20, 9, 0),\n",
       "  'Admin'),\n",
       " (8,\n",
       "  'Geetika',\n",
       "  'Chauhan',\n",
       "  90000,\n",
       "  datetime.datetime(2014, 4, 11, 9, 0),\n",
       "  'Admin'),\n",
       " (1, 'Monika', 'Arora', 100000, datetime.datetime(2014, 2, 20, 9, 0), 'HR'),\n",
       " (2,\n",
       "  'Niharika',\n",
       "  'Verma',\n",
       "  80000,\n",
       "  datetime.datetime(2014, 6, 11, 9, 0),\n",
       "  'Admin'),\n",
       " (7,\n",
       "  'Satish',\n",
       "  'Kumar',\n",
       "  75000,\n",
       "  datetime.datetime(2014, 1, 20, 9, 0),\n",
       "  'Account'),\n",
       " (6,\n",
       "  'Vipul',\n",
       "  'Diwan',\n",
       "  200000,\n",
       "  datetime.datetime(2014, 6, 11, 9, 0),\n",
       "  'Account'),\n",
       " (3, 'Vishal', 'Singhal', 300000, datetime.datetime(2014, 2, 20, 9, 0), 'HR'),\n",
       " (5, 'Vivek', 'Bhati', 500000, datetime.datetime(2014, 6, 11, 9, 0), 'Admin')]"
      ]
     },
     "execution_count": 73,
     "metadata": {},
     "output_type": "execute_result"
    }
   ],
   "source": [
    "cursor.fetchall()"
   ]
  },
  {
   "cell_type": "markdown",
   "id": "df1daef8",
   "metadata": {},
   "source": [
    "### Write an SQL query to fetch the names of workers who earn the highest salary."
   ]
  },
  {
   "cell_type": "code",
   "execution_count": 74,
   "id": "ee3136d8",
   "metadata": {},
   "outputs": [],
   "source": [
    "cursor.execute('select FIRST_NAME, LAST_NAME from Worker where SALARY in (select max(SALARY) from Worker as T)')"
   ]
  },
  {
   "cell_type": "code",
   "execution_count": 75,
   "id": "fe1671ff",
   "metadata": {},
   "outputs": [
    {
     "data": {
      "text/plain": [
       "[('Amitabh', 'Singh'), ('Vivek', 'Bhati')]"
      ]
     },
     "execution_count": 75,
     "metadata": {},
     "output_type": "execute_result"
    }
   ],
   "source": [
    "cursor.fetchall()"
   ]
  },
  {
   "cell_type": "markdown",
   "id": "b1736bec",
   "metadata": {},
   "source": [
    "### Write an SQL query to print details of workers excluding first names, “Vipul” and “Satish” from Worker table."
   ]
  },
  {
   "cell_type": "code",
   "execution_count": 76,
   "id": "07a0e86e",
   "metadata": {},
   "outputs": [],
   "source": [
    "cursor.execute('select * from Worker where FIRST_NAME not in (\"Vipul\",\"Satish\")')"
   ]
  },
  {
   "cell_type": "code",
   "execution_count": 77,
   "id": "2639f114",
   "metadata": {},
   "outputs": [
    {
     "data": {
      "text/plain": [
       "[(1, 'Monika', 'Arora', 100000, datetime.datetime(2014, 2, 20, 9, 0), 'HR'),\n",
       " (2,\n",
       "  'Niharika',\n",
       "  'Verma',\n",
       "  80000,\n",
       "  datetime.datetime(2014, 6, 11, 9, 0),\n",
       "  'Admin'),\n",
       " (3, 'Vishal', 'Singhal', 300000, datetime.datetime(2014, 2, 20, 9, 0), 'HR'),\n",
       " (4,\n",
       "  'Amitabh',\n",
       "  'Singh',\n",
       "  500000,\n",
       "  datetime.datetime(2014, 2, 20, 9, 0),\n",
       "  'Admin'),\n",
       " (5, 'Vivek', 'Bhati', 500000, datetime.datetime(2014, 6, 11, 9, 0), 'Admin'),\n",
       " (8,\n",
       "  'Geetika',\n",
       "  'Chauhan',\n",
       "  90000,\n",
       "  datetime.datetime(2014, 4, 11, 9, 0),\n",
       "  'Admin')]"
      ]
     },
     "execution_count": 77,
     "metadata": {},
     "output_type": "execute_result"
    }
   ],
   "source": [
    "cursor.fetchall()"
   ]
  },
  {
   "cell_type": "markdown",
   "id": "c412932c",
   "metadata": {},
   "source": [
    "### Write an SQL query to print details of the Workers whose FIRST_NAME ends with ‘h’ and contains six alphabets."
   ]
  },
  {
   "cell_type": "code",
   "execution_count": 78,
   "id": "7801917e",
   "metadata": {},
   "outputs": [],
   "source": [
    "cursor.execute('select * from Worker where FIRST_NAME like \"_____h\"')"
   ]
  },
  {
   "cell_type": "code",
   "execution_count": 79,
   "id": "3823a321",
   "metadata": {},
   "outputs": [
    {
     "data": {
      "text/plain": [
       "[(7,\n",
       "  'Satish',\n",
       "  'Kumar',\n",
       "  75000,\n",
       "  datetime.datetime(2014, 1, 20, 9, 0),\n",
       "  'Account')]"
      ]
     },
     "execution_count": 79,
     "metadata": {},
     "output_type": "execute_result"
    }
   ],
   "source": [
    "cursor.fetchall()"
   ]
  },
  {
   "cell_type": "markdown",
   "id": "07e2f18c",
   "metadata": {},
   "source": [
    "### Write a query to validate Email of Employee."
   ]
  },
  {
   "cell_type": "code",
   "execution_count": 100,
   "id": "68419240",
   "metadata": {},
   "outputs": [],
   "source": [
    "#cursor.execute('select * from Empl where email_id not like \"%_.%_@%_.%_\"')"
   ]
  },
  {
   "cell_type": "markdown",
   "id": "1bac0aa8",
   "metadata": {},
   "source": [
    "### Write an SQL query to print details of the Workers who have joined in Feb’2014."
   ]
  },
  {
   "cell_type": "code",
   "execution_count": 81,
   "id": "69bf1745",
   "metadata": {},
   "outputs": [],
   "source": [
    "cursor.execute('select * from Worker where JOINING_DATE like \"2014-02%_\"')"
   ]
  },
  {
   "cell_type": "code",
   "execution_count": 82,
   "id": "1fabe695",
   "metadata": {},
   "outputs": [
    {
     "data": {
      "text/plain": [
       "[(1, 'Monika', 'Arora', 100000, datetime.datetime(2014, 2, 20, 9, 0), 'HR'),\n",
       " (3, 'Vishal', 'Singhal', 300000, datetime.datetime(2014, 2, 20, 9, 0), 'HR'),\n",
       " (4,\n",
       "  'Amitabh',\n",
       "  'Singh',\n",
       "  500000,\n",
       "  datetime.datetime(2014, 2, 20, 9, 0),\n",
       "  'Admin')]"
      ]
     },
     "execution_count": 82,
     "metadata": {},
     "output_type": "execute_result"
    }
   ],
   "source": [
    "cursor.fetchall()"
   ]
  },
  {
   "cell_type": "markdown",
   "id": "560eb2cb",
   "metadata": {},
   "source": [
    "### Write an SQL query to fetch duplicate records having matching data in some fields of a table."
   ]
  },
  {
   "cell_type": "code",
   "execution_count": 83,
   "id": "d953c128",
   "metadata": {},
   "outputs": [],
   "source": [
    "cursor.execute('select SALARY,DEPARTMENT,COUNT(*) from Worker group by SALARY, DEPARTMENT having COUNT(*)>1')"
   ]
  },
  {
   "cell_type": "code",
   "execution_count": 84,
   "id": "2dee8ad7",
   "metadata": {},
   "outputs": [
    {
     "data": {
      "text/plain": [
       "[(500000, 'Admin', 2)]"
      ]
     },
     "execution_count": 84,
     "metadata": {},
     "output_type": "execute_result"
    }
   ],
   "source": [
    "cursor.fetchall()"
   ]
  },
  {
   "cell_type": "markdown",
   "id": "592da2e3",
   "metadata": {},
   "source": [
    "### How to remove duplicate rows from Employees table.       "
   ]
  },
  {
   "cell_type": "code",
   "execution_count": null,
   "id": "7f4ed1d7",
   "metadata": {},
   "outputs": [],
   "source": []
  },
  {
   "cell_type": "markdown",
   "id": "f2dbc891",
   "metadata": {},
   "source": [
    "### Write an SQL query to show only odd rows from a table.                                                              "
   ]
  },
  {
   "cell_type": "code",
   "execution_count": 85,
   "id": "c5baa1bd",
   "metadata": {},
   "outputs": [],
   "source": [
    "cursor.execute('select * from Worker where MOD(WORKER_ID,2) <> 0')"
   ]
  },
  {
   "cell_type": "code",
   "execution_count": 86,
   "id": "f78aa038",
   "metadata": {},
   "outputs": [
    {
     "data": {
      "text/plain": [
       "[(1, 'Monika', 'Arora', 100000, datetime.datetime(2014, 2, 20, 9, 0), 'HR'),\n",
       " (3, 'Vishal', 'Singhal', 300000, datetime.datetime(2014, 2, 20, 9, 0), 'HR'),\n",
       " (5, 'Vivek', 'Bhati', 500000, datetime.datetime(2014, 6, 11, 9, 0), 'Admin'),\n",
       " (7,\n",
       "  'Satish',\n",
       "  'Kumar',\n",
       "  75000,\n",
       "  datetime.datetime(2014, 1, 20, 9, 0),\n",
       "  'Account')]"
      ]
     },
     "execution_count": 86,
     "metadata": {},
     "output_type": "execute_result"
    }
   ],
   "source": [
    "cursor.fetchall()"
   ]
  },
  {
   "cell_type": "code",
   "execution_count": 88,
   "id": "917beee2",
   "metadata": {},
   "outputs": [],
   "source": [
    "cursor.execute('select * from (select *,ROW_NUMBER() over(order by WORKER_ID) as rn from Worker) as T where MOD(T.rn,2) <> 0')"
   ]
  },
  {
   "cell_type": "code",
   "execution_count": 89,
   "id": "159e2f1f",
   "metadata": {},
   "outputs": [
    {
     "data": {
      "text/plain": [
       "[(1, 'Monika', 'Arora', 100000, datetime.datetime(2014, 2, 20, 9, 0), 'HR', 1),\n",
       " (3,\n",
       "  'Vishal',\n",
       "  'Singhal',\n",
       "  300000,\n",
       "  datetime.datetime(2014, 2, 20, 9, 0),\n",
       "  'HR',\n",
       "  3),\n",
       " (5,\n",
       "  'Vivek',\n",
       "  'Bhati',\n",
       "  500000,\n",
       "  datetime.datetime(2014, 6, 11, 9, 0),\n",
       "  'Admin',\n",
       "  5),\n",
       " (7,\n",
       "  'Satish',\n",
       "  'Kumar',\n",
       "  75000,\n",
       "  datetime.datetime(2014, 1, 20, 9, 0),\n",
       "  'Account',\n",
       "  7)]"
      ]
     },
     "execution_count": 89,
     "metadata": {},
     "output_type": "execute_result"
    }
   ],
   "source": [
    "cursor.fetchall()"
   ]
  },
  {
   "cell_type": "markdown",
   "id": "86c108f8",
   "metadata": {},
   "source": [
    "### Write an SQL query to clone a new table from another table. "
   ]
  },
  {
   "cell_type": "code",
   "execution_count": null,
   "id": "1032f7dd",
   "metadata": {},
   "outputs": [],
   "source": [
    "cursor.execute('create table Worker_Clone like Worker')"
   ]
  },
  {
   "cell_type": "code",
   "execution_count": 90,
   "id": "7dd0ecb4",
   "metadata": {},
   "outputs": [],
   "source": [
    "cursor.execute('select * from Worker_Clone')"
   ]
  },
  {
   "cell_type": "code",
   "execution_count": 91,
   "id": "2aed74a1",
   "metadata": {},
   "outputs": [
    {
     "data": {
      "text/plain": [
       "[]"
      ]
     },
     "execution_count": 91,
     "metadata": {},
     "output_type": "execute_result"
    }
   ],
   "source": [
    "cursor.fetchall()"
   ]
  },
  {
   "cell_type": "code",
   "execution_count": 92,
   "id": "04429854",
   "metadata": {},
   "outputs": [],
   "source": [
    "mydb.commit()"
   ]
  },
  {
   "cell_type": "markdown",
   "id": "78c693cc",
   "metadata": {},
   "source": [
    "### Write an SQL query to fetch intersecting records of two tables."
   ]
  },
  {
   "cell_type": "code",
   "execution_count": 101,
   "id": "0e530f28",
   "metadata": {},
   "outputs": [],
   "source": [
    "#cursor.execute('CREATE TABLE Title (WORKER_REF_ID INT,WORKER_TITLE CHAR(25),AFFECTED_FROM DATETIME,FOREIGN KEY (WORKER_REF_ID) REFERENCES Worker(WORKER_ID) ON DELETE CASCADE);')"
   ]
  },
  {
   "cell_type": "code",
   "execution_count": null,
   "id": "4ca9e360",
   "metadata": {},
   "outputs": [],
   "source": [
    "cursor.execute('INSERT INTO Title (WORKER_REF_ID, WORKER_TITLE, AFFECTED_FROM) VALUES (001, \"Manager\", \"2016-02-20 00:00:00\"),(002, \"Executive\", \"2016-06-11 00:00:00\"),(008, \"Executive\", \"2016-06-11 00:00:00\"),(005, \"Manager\", \"2016-06-11 00:00:00\"),(004, \"Asst. Manager\", \"2016-06-11 00:00:00\"),(007, \"Executive\", \"2016-06-11 00:00:00\"),(006, \"Lead\", \"2016-06-11 00:00:00\"),(003, \"Lead\", \"2016-06-11 00:00:00\");')\n",
    "cursor.fetchall()"
   ]
  },
  {
   "cell_type": "code",
   "execution_count": 94,
   "id": "6a8c80c9",
   "metadata": {},
   "outputs": [],
   "source": [
    "cursor.execute('select * from Title')"
   ]
  },
  {
   "cell_type": "code",
   "execution_count": 95,
   "id": "6317fd0e",
   "metadata": {},
   "outputs": [
    {
     "data": {
      "text/plain": [
       "[(1, 'Manager', datetime.datetime(2016, 2, 20, 0, 0)),\n",
       " (2, 'Executive', datetime.datetime(2016, 6, 11, 0, 0)),\n",
       " (8, 'Executive', datetime.datetime(2016, 6, 11, 0, 0)),\n",
       " (5, 'Manager', datetime.datetime(2016, 6, 11, 0, 0)),\n",
       " (4, 'Asst. Manager', datetime.datetime(2016, 6, 11, 0, 0)),\n",
       " (7, 'Executive', datetime.datetime(2016, 6, 11, 0, 0)),\n",
       " (6, 'Lead', datetime.datetime(2016, 6, 11, 0, 0)),\n",
       " (3, 'Lead', datetime.datetime(2016, 6, 11, 0, 0))]"
      ]
     },
     "execution_count": 95,
     "metadata": {},
     "output_type": "execute_result"
    }
   ],
   "source": [
    "cursor.fetchall()"
   ]
  },
  {
   "cell_type": "code",
   "execution_count": 102,
   "id": "b8caeb90",
   "metadata": {},
   "outputs": [],
   "source": [
    "#cursor.execute('(select * from Worker) INTERSECT (select * from Title)')"
   ]
  },
  {
   "cell_type": "markdown",
   "id": "9fb89cda",
   "metadata": {},
   "source": [
    "### Write an SQL query to show the top n (say 10) records of a table."
   ]
  },
  {
   "cell_type": "code",
   "execution_count": 97,
   "id": "7532dc91",
   "metadata": {},
   "outputs": [],
   "source": [
    "cursor.execute('select * from Worker limit 10')"
   ]
  },
  {
   "cell_type": "code",
   "execution_count": 98,
   "id": "d6faa664",
   "metadata": {},
   "outputs": [
    {
     "data": {
      "text/plain": [
       "[(1, 'Monika', 'Arora', 100000, datetime.datetime(2014, 2, 20, 9, 0), 'HR'),\n",
       " (2,\n",
       "  'Niharika',\n",
       "  'Verma',\n",
       "  80000,\n",
       "  datetime.datetime(2014, 6, 11, 9, 0),\n",
       "  'Admin'),\n",
       " (3, 'Vishal', 'Singhal', 300000, datetime.datetime(2014, 2, 20, 9, 0), 'HR'),\n",
       " (4,\n",
       "  'Amitabh',\n",
       "  'Singh',\n",
       "  500000,\n",
       "  datetime.datetime(2014, 2, 20, 9, 0),\n",
       "  'Admin'),\n",
       " (5, 'Vivek', 'Bhati', 500000, datetime.datetime(2014, 6, 11, 9, 0), 'Admin'),\n",
       " (6,\n",
       "  'Vipul',\n",
       "  'Diwan',\n",
       "  200000,\n",
       "  datetime.datetime(2014, 6, 11, 9, 0),\n",
       "  'Account'),\n",
       " (7,\n",
       "  'Satish',\n",
       "  'Kumar',\n",
       "  75000,\n",
       "  datetime.datetime(2014, 1, 20, 9, 0),\n",
       "  'Account'),\n",
       " (8,\n",
       "  'Geetika',\n",
       "  'Chauhan',\n",
       "  90000,\n",
       "  datetime.datetime(2014, 4, 11, 9, 0),\n",
       "  'Admin')]"
      ]
     },
     "execution_count": 98,
     "metadata": {},
     "output_type": "execute_result"
    }
   ],
   "source": [
    "cursor.fetchall()"
   ]
  },
  {
   "cell_type": "markdown",
   "id": "7f7182fa",
   "metadata": {},
   "source": [
    "### Write an SQL query to determine the nth (say n=5) highest salary from a table."
   ]
  },
  {
   "cell_type": "code",
   "execution_count": 26,
   "id": "423282b1",
   "metadata": {},
   "outputs": [],
   "source": [
    "cursor.execute('select SALARY from Worker order by SALARY desc limit 4,1')"
   ]
  },
  {
   "cell_type": "code",
   "execution_count": 27,
   "id": "e065add9",
   "metadata": {},
   "outputs": [
    {
     "data": {
      "text/plain": [
       "[(100000,)]"
      ]
     },
     "execution_count": 27,
     "metadata": {},
     "output_type": "execute_result"
    }
   ],
   "source": [
    "cursor.fetchall()"
   ]
  },
  {
   "cell_type": "markdown",
   "id": "63998daa",
   "metadata": {},
   "source": [
    "### Write an SQL query to determine the 5th highest salary without using TOP or limit method."
   ]
  },
  {
   "cell_type": "code",
   "execution_count": 28,
   "id": "624bed2b",
   "metadata": {},
   "outputs": [],
   "source": [
    "cursor.execute('select SALARY from Worker Wa where 4=(select count(distinct SALARY ) from Worker Wb where Wb.SALARY<Wa.SALARY)')"
   ]
  },
  {
   "cell_type": "code",
   "execution_count": 29,
   "id": "cd185a45",
   "metadata": {},
   "outputs": [
    {
     "data": {
      "text/plain": [
       "[(200000,)]"
      ]
     },
     "execution_count": 29,
     "metadata": {},
     "output_type": "execute_result"
    }
   ],
   "source": [
    "cursor.fetchall()"
   ]
  },
  {
   "cell_type": "markdown",
   "id": "080d70f9",
   "metadata": {},
   "source": [
    "### Write an SQL query to fetch the list of employees with the same salary. "
   ]
  },
  {
   "cell_type": "code",
   "execution_count": 47,
   "id": "f307853c",
   "metadata": {},
   "outputs": [],
   "source": [
    "cursor.execute('select W1.WORKER_ID,W1.FIRST_NAME,W1.LAST_NAME,W1.SALARY from Worker W1 join Worker W2 on W1.SALARY=W2.SALARY and W1.WORKER_ID!=W2.WORKER_ID')"
   ]
  },
  {
   "cell_type": "code",
   "execution_count": 48,
   "id": "7328af53",
   "metadata": {},
   "outputs": [
    {
     "data": {
      "text/plain": [
       "[(5, 'Vivek', 'Bhati', 500000), (4, 'Amitabh', 'Singh', 500000)]"
      ]
     },
     "execution_count": 48,
     "metadata": {},
     "output_type": "execute_result"
    }
   ],
   "source": [
    "cursor.fetchall()"
   ]
  },
  {
   "cell_type": "code",
   "execution_count": null,
   "id": "6f4d5cfe",
   "metadata": {},
   "outputs": [],
   "source": []
  }
 ],
 "metadata": {
  "kernelspec": {
   "display_name": "Python 3 (ipykernel)",
   "language": "python",
   "name": "python3"
  },
  "language_info": {
   "codemirror_mode": {
    "name": "ipython",
    "version": 3
   },
   "file_extension": ".py",
   "mimetype": "text/x-python",
   "name": "python",
   "nbconvert_exporter": "python",
   "pygments_lexer": "ipython3",
   "version": "3.9.7"
  }
 },
 "nbformat": 4,
 "nbformat_minor": 5
}
